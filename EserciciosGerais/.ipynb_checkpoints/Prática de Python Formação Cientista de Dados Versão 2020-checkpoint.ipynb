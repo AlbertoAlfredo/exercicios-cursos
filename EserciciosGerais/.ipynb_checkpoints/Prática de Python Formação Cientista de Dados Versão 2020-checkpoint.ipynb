{
 "cells": [
  {
   "cell_type": "code",
   "execution_count": 34,
   "metadata": {},
   "outputs": [
    {
     "data": {
      "text/plain": [
       "445"
      ]
     },
     "execution_count": 34,
     "metadata": {},
     "output_type": "execute_result"
    }
   ],
   "source": [
    "'''1. Faça um programa que tenha uma função chamada amplitude. A função deve receber uma lista e\n",
    "imprimir a amplitude.\n",
    "Crie também um código para testar sua função'''\n",
    "def amplitude(amp = []):\n",
    "    if amp:\n",
    "        amp = sorted(amp)\n",
    "        amplitude = amp[-1] - amp[0]\n",
    "        return amplitude\n",
    "\n",
    "\n",
    "amp = [34, 234, 11, 456, 23]\n",
    "\n",
    "amplitude(amp)"
   ]
  },
  {
   "cell_type": "code",
   "execution_count": 37,
   "metadata": {},
   "outputs": [
    {
     "name": "stdout",
     "output_type": "stream",
     "text": [
      "a\n",
      "b\n",
      "a\n",
      "c\n",
      "a\n",
      "x\n",
      "i\n"
     ]
    }
   ],
   "source": [
    "'''2. Faça uma função que receba uma string e imprima esta string na forma vertical\n",
    "Por exemplo, se receber python, deve imprimir\n",
    "p\n",
    "y\n",
    "t\n",
    "h\n",
    "o\n",
    "n\n",
    "Dica: uma string do python funciona como uma lista!\n",
    "Crie também um código para testar sua função'''\n",
    "\n",
    "def stringVertical(string):\n",
    "    for x in string:\n",
    "        print(x)\n",
    "        \n",
    "palavra = \"abacaxi\"\n",
    "\n",
    "stringVertical(palavra)"
   ]
  },
  {
   "cell_type": "code",
   "execution_count": 46,
   "metadata": {},
   "outputs": [
    {
     "name": "stdout",
     "output_type": "stream",
     "text": [
      "Digite o peso da carga em números inteiros: al\n",
      "Digite um número inteiro\n",
      "Digite o peso da carga em números inteiros: 2.1\n",
      "Digite um número inteiro\n",
      "Digite o peso da carga em números inteiros: 21\n",
      "O peso não é aceito, aceitamos apenas até 20Kg\n"
     ]
    }
   ],
   "source": [
    "'''3. Crie um programa que leia o peso de uma carga em números inteiros. Se o peso for até 10 kg, informe\n",
    "que o valor será de R$ 50,00. Entre 11 e 20 kg, informe que o valor será de R$ 80. Se for maior que 20\n",
    "informe que o transporte não é aceito. Teste vários pesos.'''\n",
    "\n",
    "def precoCarga(peso):\n",
    "    text = \"O valor do frete é: \"\n",
    "    if peso <= 10:\n",
    "        preco = 50\n",
    "        print(\"{} R$:{},00\".format(text, preco))\n",
    "    elif peso > 10 and peso <= 20:\n",
    "        preco = 80\n",
    "        print(\"{} R$:{},00\".format(text, preco))\n",
    "    else:\n",
    "        print(\"O peso não é aceito, aceitamos apenas até 20Kg\")\n",
    "\n",
    "while True:\n",
    "    try:\n",
    "        peso = int(input(\"Digite o peso da carga em números inteiros: \"))\n",
    "        precoCarga(peso)\n",
    "        break\n",
    "    except ValueError:\n",
    "        print(\"Digite um número inteiro\")"
   ]
  },
  {
   "cell_type": "code",
   "execution_count": null,
   "metadata": {},
   "outputs": [],
   "source": []
  }
 ],
 "metadata": {
  "kernelspec": {
   "display_name": "Python 3",
   "language": "python",
   "name": "python3"
  },
  "language_info": {
   "codemirror_mode": {
    "name": "ipython",
    "version": 3
   },
   "file_extension": ".py",
   "mimetype": "text/x-python",
   "name": "python",
   "nbconvert_exporter": "python",
   "pygments_lexer": "ipython3",
   "version": "3.8.3"
  }
 },
 "nbformat": 4,
 "nbformat_minor": 4
}
