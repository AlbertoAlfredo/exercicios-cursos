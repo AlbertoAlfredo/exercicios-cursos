{
 "cells": [
  {
   "cell_type": "code",
   "execution_count": null,
   "metadata": {},
   "outputs": [],
   "source": [
    "# Formação Cientista de Dados\n",
    "# Conexão Mongodb"
   ]
  },
  {
   "cell_type": "code",
   "execution_count": 1,
   "metadata": {},
   "outputs": [],
   "source": [
    "# pip install pymongo\n",
    "from pymongo import MongoClient"
   ]
  },
  {
   "cell_type": "code",
   "execution_count": 2,
   "metadata": {},
   "outputs": [],
   "source": [
    "#conexão local padrão\n",
    "cliente = MongoClient('mongodb://localhost:27017/')\n",
    "#banco dbmidias\n",
    "db = cliente.dbmidias\n",
    "#coleção posts\n",
    "conexao = db.posts"
   ]
  },
  {
   "cell_type": "code",
   "execution_count": 3,
   "metadata": {},
   "outputs": [
    {
     "name": "stdout",
     "output_type": "stream",
     "text": [
      "{'_id': ObjectId('5e2c4073ccf81fd8a9d7c443'), 'nome': 'José', 'postagem': 'Bons Produtos!', 'data': '31-06-2019'}\n"
     ]
    }
   ],
   "source": [
    "#um documento\n",
    "print(conexao.find_one())"
   ]
  },
  {
   "cell_type": "code",
   "execution_count": 4,
   "metadata": {},
   "outputs": [
    {
     "name": "stdout",
     "output_type": "stream",
     "text": [
      "{'_id': ObjectId('5e2c4109ccf81fd8a9d7c445'), 'nome': 'Maria Silva', 'postagem': 'Encontrei tudo que procurava', 'data': '14-06-2019'}\n"
     ]
    }
   ],
   "source": [
    "print(conexao.find_one({\"nome\":\"Maria Silva\"}))"
   ]
  },
  {
   "cell_type": "code",
   "execution_count": 5,
   "metadata": {},
   "outputs": [
    {
     "name": "stdout",
     "output_type": "stream",
     "text": [
      "{'_id': ObjectId('5e2c4073ccf81fd8a9d7c443'), 'nome': 'José', 'postagem': 'Bons Produtos!', 'data': '31-06-2019'}\n",
      "{'_id': ObjectId('5e2c4109ccf81fd8a9d7c444'), 'nome': 'Antonio', 'postagem': 'Minha bike quebrou', 'data': '26-05-2019'}\n",
      "{'_id': ObjectId('5e2c4109ccf81fd8a9d7c445'), 'nome': 'Maria Silva', 'postagem': 'Encontrei tudo que procurava', 'data': '14-06-2019'}\n",
      "{'_id': ObjectId('5e2c4109ccf81fd8a9d7c446'), 'nome': 'Lucas Andrade', 'postagem': 'Ótimo atendimento!', 'data': '12-04-2019'}\n",
      "{'_id': ObjectId('5e2c427dccf81fd8a9d7c447'), 'nome': 'José', 'postagem': 'Loja suja!', 'data': '30-01-2019'}\n",
      "{'_id': ObjectId('5e2c4315ccf81fd8a9d7c449'), 'nome': 'Ricardo', 'postagem': 'Produtos caros', 'data': '14-07-2019', 'idade': 12.0}\n"
     ]
    }
   ],
   "source": [
    "#todos\n",
    "for conexao in conexao.find():\n",
    "    print(conexao)"
   ]
  },
  {
   "cell_type": "code",
   "execution_count": 6,
   "metadata": {},
   "outputs": [],
   "source": [
    "cliente.close()"
   ]
  },
  {
   "cell_type": "code",
   "execution_count": null,
   "metadata": {},
   "outputs": [],
   "source": []
  }
 ],
 "metadata": {
  "kernelspec": {
   "display_name": "Python 3",
   "language": "python",
   "name": "python3"
  },
  "language_info": {
   "codemirror_mode": {
    "name": "ipython",
    "version": 3
   },
   "file_extension": ".py",
   "mimetype": "text/x-python",
   "name": "python",
   "nbconvert_exporter": "python",
   "pygments_lexer": "ipython3",
   "version": "3.7.6"
  }
 },
 "nbformat": 4,
 "nbformat_minor": 4
}
