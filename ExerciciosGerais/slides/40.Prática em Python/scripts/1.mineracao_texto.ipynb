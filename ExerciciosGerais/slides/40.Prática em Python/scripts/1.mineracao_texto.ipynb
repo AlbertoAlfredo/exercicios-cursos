{
 "cells": [
  {
   "cell_type": "code",
   "execution_count": null,
   "metadata": {},
   "outputs": [],
   "source": [
    "# Formação Cientista de Dados - Fernando Amaral e Jones Granatyr\n",
    "# Mineração de textos"
   ]
  },
  {
   "cell_type": "code",
   "execution_count": null,
   "metadata": {},
   "outputs": [],
   "source": [
    "# Importação das bibliotecas\n",
    "import matplotlib.pyplot as plt\n",
    "import nltk\n",
    "#nltk.download() (pode ser executado após instalar o nltk - pip install nltk)\n",
    "nltk.download('stopwords')\n",
    "from nltk.corpus import PlaintextCorpusReader\n",
    "from nltk.corpus import stopwords\n",
    "from matplotlib.colors import ListedColormap\n",
    "from wordcloud import WordCloud\n",
    "#conda install -c conda-forge wordcloud (executar no Anaconda Prompt)\n",
    "import string"
   ]
  },
  {
   "cell_type": "code",
   "execution_count": null,
   "metadata": {},
   "outputs": [],
   "source": [
    "# Criação de um corpus lendo textos do disco\n",
    "corpus = PlaintextCorpusReader('Arquivos', '.*', encoding = \"ISO-8859-1\")"
   ]
  },
  {
   "cell_type": "code",
   "execution_count": null,
   "metadata": {},
   "outputs": [],
   "source": [
    "# Leitura dos arquivos do disco, percorrer os registros e mostrar o nome dos primeiros 100 arquivos\n",
    "arquivos = corpus.fileids()\n",
    "#primeiro arquivo\n",
    "arquivos[0]"
   ]
  },
  {
   "cell_type": "code",
   "execution_count": null,
   "metadata": {},
   "outputs": [],
   "source": [
    "#zero a 10\n",
    "arquivos[0:10]"
   ]
  },
  {
   "cell_type": "code",
   "execution_count": null,
   "metadata": {},
   "outputs": [],
   "source": [
    "#imprime todos os nomes\n",
    "for a in arquivos:\n",
    "    print(a)"
   ]
  },
  {
   "cell_type": "code",
   "execution_count": null,
   "metadata": {},
   "outputs": [],
   "source": [
    "# Acesso ao texto do primeiro arquivo\n",
    "texto = corpus.raw('1.txt')\n",
    "texto"
   ]
  },
  {
   "cell_type": "code",
   "execution_count": null,
   "metadata": {},
   "outputs": [],
   "source": [
    "# Acesso a todos as palavras de todos os arquivos do corpus\n",
    "todo_texto = corpus.raw()\n",
    "#todo_texto"
   ]
  },
  {
   "cell_type": "code",
   "execution_count": null,
   "metadata": {},
   "outputs": [],
   "source": [
    "# Obtenção de todas as palavras do corpus e visualização da quantidade\n",
    "palavras = corpus.words()\n",
    "#acessando pelo indíce\n",
    "palavras[170]"
   ]
  },
  {
   "cell_type": "code",
   "execution_count": null,
   "metadata": {},
   "outputs": [],
   "source": [
    "#quantidade\n",
    "len(palavras)"
   ]
  },
  {
   "cell_type": "code",
   "execution_count": null,
   "metadata": {},
   "outputs": [],
   "source": [
    "# Usando o NLTK, obtemos as stop word em inglês\n",
    "stops = stopwords.words('english')\n",
    "#stops = stopwords.words('portuguese')\n",
    "stops"
   ]
  },
  {
   "cell_type": "code",
   "execution_count": null,
   "metadata": {},
   "outputs": [],
   "source": [
    "# Definição das cores que serão utilizadas na nuvem de palavras\n",
    "mapa_cores = ListedColormap(['orange', 'green', 'red', 'magenta'])\n",
    "# Criação da nuvem de palavras, com no máximo 100 palavras e utilizando as stop words\n",
    "nuvem = WordCloud(background_color = 'white',\n",
    "                  colormap = mapa_cores,\n",
    "                  stopwords = stops,\n",
    "                  max_words = 100)\n",
    "# Criação e visualização da nuvem de palavras\n",
    "nuvem.generate(todo_texto)\n",
    "plt.imshow(nuvem)"
   ]
  },
  {
   "cell_type": "code",
   "execution_count": null,
   "metadata": {},
   "outputs": [],
   "source": [
    "# Criação de nova lista de palavras, removendo stop words\n",
    "palavras_semstop = [p for p in palavras if p not in stops]\n",
    "len(palavras_semstop)"
   ]
  },
  {
   "cell_type": "code",
   "execution_count": null,
   "metadata": {},
   "outputs": [],
   "source": [
    "# Remoção da pontuação, gerando uma lista sem stop words e sem pontuação\n",
    "palavras_sem_pontuacao = [p for p in palavras_semstop if p not in string.punctuation]\n",
    "len(palavras_sem_pontuacao)"
   ]
  },
  {
   "cell_type": "code",
   "execution_count": null,
   "metadata": {},
   "outputs": [],
   "source": [
    "# Cálculo da frequência das palavras e visualização das mais comuns\n",
    "frequencia = nltk.FreqDist(palavras_sem_pontuacao)\n",
    "frequencia"
   ]
  },
  {
   "cell_type": "code",
   "execution_count": null,
   "metadata": {},
   "outputs": [],
   "source": [
    "#mais comuns\n",
    "mais_comuns = frequencia.most_common(100)\n",
    "mais_comuns"
   ]
  },
  {
   "cell_type": "code",
   "execution_count": null,
   "metadata": {},
   "outputs": [],
   "source": []
  }
 ],
 "metadata": {
  "jupytext": {
   "cell_metadata_filter": "-all",
   "main_language": "python",
   "notebook_metadata_filter": "-all"
  },
  "kernelspec": {
   "display_name": "Python 3",
   "language": "python",
   "name": "python3"
  },
  "language_info": {
   "codemirror_mode": {
    "name": "ipython",
    "version": 3
   },
   "file_extension": ".py",
   "mimetype": "text/x-python",
   "name": "python",
   "nbconvert_exporter": "python",
   "pygments_lexer": "ipython3",
   "version": "3.7.6"
  }
 },
 "nbformat": 4,
 "nbformat_minor": 4
}
