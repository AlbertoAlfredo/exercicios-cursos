{
 "cells": [
  {
   "cell_type": "code",
   "execution_count": null,
   "metadata": {},
   "outputs": [],
   "source": [
    "# Formação Cientista de Dados - Fernando Amaral e Jones Granatyr\n",
    "# Redes neurais artificiais com keras"
   ]
  },
  {
   "cell_type": "code",
   "execution_count": null,
   "metadata": {},
   "outputs": [],
   "source": [
    "# Importação das bibliotecas\n",
    "from sklearn import datasets\n",
    "from sklearn.model_selection import train_test_split\n",
    "from sklearn.metrics import confusion_matrix\n",
    "from keras.models import Sequential\n",
    "from keras.layers import Dense\n",
    "from keras.utils import np_utils\n",
    "import numpy as np"
   ]
  },
  {
   "cell_type": "code",
   "execution_count": null,
   "metadata": {},
   "outputs": [],
   "source": [
    "# Carregamento da base de dados e criação dos previsores (variáveis independentes - X) e da classe (variável dependente - y)\n",
    "base = datasets.load_iris()\n",
    "previsores = base.data\n",
    "classe = base.target\n",
    "classe"
   ]
  },
  {
   "cell_type": "code",
   "execution_count": null,
   "metadata": {},
   "outputs": [],
   "source": [
    "# Transformação da classe para o formato \"dummy\", pois temos uma rede neural com 3 neurônios na camada de saída\n",
    "classe_dummy = np_utils.to_categorical(classe)\n",
    "classe_dummy"
   ]
  },
  {
   "cell_type": "code",
   "execution_count": null,
   "metadata": {},
   "outputs": [],
   "source": [
    "# Divisão da base de dados entre treinamento e teste (30% para testar e 70% para treinar)\n",
    "X_treinamento, X_teste, y_treinamento, y_teste = train_test_split(previsores,\n",
    "                                                                  classe_dummy,\n",
    "                                                                  test_size = 0.3,\n",
    "                                                                  random_state = 0)"
   ]
  },
  {
   "cell_type": "code",
   "execution_count": null,
   "metadata": {},
   "outputs": [],
   "source": [
    "# Criação da estrutura da rede neural com a classe Sequential (sequência de camadas)\n",
    "modelo = Sequential()\n",
    "#primeira camada oculta, 5 neuronios, 4 neuronios de entrada\n",
    "modelo.add(Dense(units = 5, input_dim = 4))\n",
    "#segunda camada oculta\n",
    "modelo.add(Dense(units = 4))\n",
    "# Função softmax porque temos um problema de classificação com mais de duas classes \n",
    "#(é gerada uma probabilidade em cada neurônio)\n",
    "modelo.add(Dense(units = 3, activation = 'softmax'))"
   ]
  },
  {
   "cell_type": "code",
   "execution_count": null,
   "metadata": {},
   "outputs": [],
   "source": [
    "# Visualização da estrutura da rede neural\n",
    "modelo.summary()"
   ]
  },
  {
   "cell_type": "code",
   "execution_count": null,
   "metadata": {},
   "outputs": [],
   "source": [
    "# Configuração dos parâmetros da rede neural (adam = algoritmo para atualizar os pesos e loss = cálculo do erro)\n",
    "modelo.compile(optimizer = 'adam', loss = 'categorical_crossentropy',\n",
    "               metrics = ['accuracy'])\n",
    "# Treinamento, dividindo a base de treinamento em uma porção para validação (validation_data)\n",
    "modelo.fit(X_treinamento, y_treinamento, epochs = 1000,\n",
    "           validation_data = (X_teste, y_teste))"
   ]
  },
  {
   "cell_type": "code",
   "execution_count": null,
   "metadata": {},
   "outputs": [],
   "source": [
    "# Previsões e mudar a variável para True ou False de acordo com o threshold 0.5\n",
    "previsoes = modelo.predict(X_teste)\n",
    "previsoes = (previsoes > 0.5)\n",
    "previsoes"
   ]
  },
  {
   "cell_type": "code",
   "execution_count": null,
   "metadata": {},
   "outputs": [],
   "source": [
    "# Como é um problema com três saídas, precisamos buscar a posição que possui o maior valor (são retornados 3 valores)\n",
    "y_teste_matrix = [np.argmax(t) for t in y_teste]\n",
    "y_previsao_matrix = [np.argmax(t) for t in previsoes]"
   ]
  },
  {
   "cell_type": "code",
   "execution_count": null,
   "metadata": {},
   "outputs": [],
   "source": [
    "# Geração da matriz de confusão\n",
    "confusao = confusion_matrix(y_teste_matrix, y_previsao_matrix)\n",
    "confusao"
   ]
  },
  {
   "cell_type": "code",
   "execution_count": null,
   "metadata": {},
   "outputs": [],
   "source": []
  }
 ],
 "metadata": {
  "jupytext": {
   "cell_metadata_filter": "-all",
   "main_language": "python",
   "notebook_metadata_filter": "-all"
  },
  "kernelspec": {
   "display_name": "Python 3",
   "language": "python",
   "name": "python3"
  },
  "language_info": {
   "codemirror_mode": {
    "name": "ipython",
    "version": 3
   },
   "file_extension": ".py",
   "mimetype": "text/x-python",
   "name": "python",
   "nbconvert_exporter": "python",
   "pygments_lexer": "ipython3",
   "version": "3.7.6"
  }
 },
 "nbformat": 4,
 "nbformat_minor": 4
}
