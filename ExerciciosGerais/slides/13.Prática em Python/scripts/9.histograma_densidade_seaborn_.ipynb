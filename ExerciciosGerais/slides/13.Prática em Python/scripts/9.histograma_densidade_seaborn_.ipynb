{
 "cells": [
  {
   "cell_type": "code",
   "execution_count": null,
   "metadata": {},
   "outputs": [],
   "source": [
    "# Formação Cientista de Dados - Fernando Amaral e Jones Granatyr\n",
    "# Histograma com densidade e seabord"
   ]
  },
  {
   "cell_type": "code",
   "execution_count": null,
   "metadata": {},
   "outputs": [],
   "source": [
    "# Importação das bibliotecas\n",
    "import pandas as pd\n",
    "import seaborn as srn\n",
    "#pip install seaborn (executar no Anaconda Prompt)\n",
    "import matplotlib.pyplot as plt"
   ]
  },
  {
   "cell_type": "code",
   "execution_count": null,
   "metadata": {},
   "outputs": [],
   "source": [
    "# Carregamento da base de dados\n",
    "base = pd.read_csv('trees.csv')\n",
    "base.head()"
   ]
  },
  {
   "cell_type": "code",
   "execution_count": null,
   "metadata": {},
   "outputs": [],
   "source": [
    "# Histograma com 10 divisões (bins) e com gráfico de densidade\n",
    "srn.distplot(base.Volume, bins = 10, axlabel = 'Volume').set_title('Árvores')"
   ]
  },
  {
   "cell_type": "code",
   "execution_count": null,
   "metadata": {},
   "outputs": [],
   "source": [
    "# Carregamento de outra base de dados\n",
    "base2 = pd.read_csv('chicken.csv')\n",
    "base2.head()"
   ]
  },
  {
   "cell_type": "code",
   "execution_count": null,
   "metadata": {},
   "outputs": [],
   "source": [
    "# Criação de novo dataframe agrupando o atributo 'feed'\n",
    "agrupado = base2.groupby(['feed'])['weight'].sum()\n",
    "agrupado"
   ]
  },
  {
   "cell_type": "code",
   "execution_count": null,
   "metadata": {},
   "outputs": [],
   "source": [
    "# Novo dataframe somente para testar os filtros do pandas\n",
    "teste = base2.loc[base2['feed'] == 'horsebean']\n",
    "teste"
   ]
  },
  {
   "cell_type": "code",
   "execution_count": null,
   "metadata": {},
   "outputs": [],
   "source": [
    "# Histrograma considerando somente o valor 'horsebean'\n",
    "srn.distplot(base2.loc[base2['feed'] == 'horsebean'].weight, hist = False).set_title('horsebean')"
   ]
  },
  {
   "cell_type": "code",
   "execution_count": null,
   "metadata": {},
   "outputs": [],
   "source": [
    "# Histrograma considerando somente o valor 'casein'\n",
    "srn.distplot(base2.loc[base2['feed'] == 'casein'].weight).set_title('casein')"
   ]
  },
  {
   "cell_type": "code",
   "execution_count": null,
   "metadata": {},
   "outputs": [],
   "source": [
    "# Histrograma considerando somente o valor 'linseed'\n",
    "srn.distplot(base2.loc[base2['feed'] == 'linseed'].weight).set_title('linseed')"
   ]
  },
  {
   "cell_type": "code",
   "execution_count": null,
   "metadata": {},
   "outputs": [],
   "source": [
    "# Histrograma considerando somente o valor 'meatmeal'\n",
    "srn.distplot(base2.loc[base2['feed'] == 'meatmeal'].weight).set_title('meatmeal')"
   ]
  },
  {
   "cell_type": "code",
   "execution_count": null,
   "metadata": {},
   "outputs": [],
   "source": [
    "# Histrograma considerando somente o valor 'soybean'\n",
    "srn.distplot(base2.loc[base2['feed'] == 'soybean'].weight).set_title('soybean')"
   ]
  },
  {
   "cell_type": "code",
   "execution_count": null,
   "metadata": {},
   "outputs": [],
   "source": [
    "# Histrograma considerando somente o valor 'sunflower'\n",
    "srn.distplot(base2.loc[base2['feed'] == 'sunflower'].weight).set_title('sunflower')"
   ]
  },
  {
   "cell_type": "code",
   "execution_count": null,
   "metadata": {},
   "outputs": [],
   "source": [
    "#impresssão em gráfico 2 x 3\n",
    "plt.figure()\n",
    "plt.subplot(3,2,1)\n",
    "srn.distplot(base2.loc[base2['feed'] == 'horsebean'].weight, hist = False).set_title('horsebean')\n",
    "plt.subplot(3,2,2)\n",
    "srn.distplot(base2.loc[base2['feed'] == 'casein'].weight).set_title('casein')\n",
    "plt.subplot(3,2,3)\n",
    "srn.distplot(base2.loc[base2['feed'] == 'linseed'].weight).set_title('linseed')\n",
    "plt.subplot(3,2,4)\n",
    "srn.distplot(base2.loc[base2['feed'] == 'meatmeal'].weight).set_title('meatmeal')\n",
    "plt.subplot(3,2,5)\n",
    "srn.distplot(base2.loc[base2['feed'] == 'soybean'].weight).set_title('soybean')\n",
    "plt.subplot(3,2,6)\n",
    "srn.distplot(base2.loc[base2['feed'] == 'sunflower'].weight).set_title('sunflower')\n",
    "#ajusta o layout para não haver sobreposição\n",
    "plt.tight_layout()"
   ]
  },
  {
   "cell_type": "code",
   "execution_count": null,
   "metadata": {},
   "outputs": [],
   "source": []
  }
 ],
 "metadata": {
  "jupytext": {
   "cell_metadata_filter": "-all",
   "main_language": "python",
   "notebook_metadata_filter": "-all"
  },
  "kernelspec": {
   "display_name": "Python 3",
   "language": "python",
   "name": "python3"
  },
  "language_info": {
   "codemirror_mode": {
    "name": "ipython",
    "version": 3
   },
   "file_extension": ".py",
   "mimetype": "text/x-python",
   "name": "python",
   "nbconvert_exporter": "python",
   "pygments_lexer": "ipython3",
   "version": "3.7.6"
  }
 },
 "nbformat": 4,
 "nbformat_minor": 4
}
