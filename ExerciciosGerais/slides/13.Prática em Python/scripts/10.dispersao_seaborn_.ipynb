{
 "cells": [
  {
   "cell_type": "code",
   "execution_count": null,
   "metadata": {},
   "outputs": [],
   "source": [
    "# Formação Cientista de Dados - Fernando Amaral e Jones Granatyr\n",
    "# Gráfico de dispersão com seaborn"
   ]
  },
  {
   "cell_type": "code",
   "execution_count": null,
   "metadata": {},
   "outputs": [],
   "source": [
    "# Importação das bibliotecas\n",
    "import pandas as pd\n",
    "import seaborn as srn\n",
    "import matplotlib.pyplot as plt"
   ]
  },
  {
   "cell_type": "code",
   "execution_count": null,
   "metadata": {},
   "outputs": [],
   "source": [
    "# Carregamento da base de dados\n",
    "base = pd.read_csv('co2.csv')\n",
    "base.head()"
   ]
  },
  {
   "cell_type": "code",
   "execution_count": null,
   "metadata": {},
   "outputs": [],
   "source": [
    "# Gráfico de dispersão utilizando os atributos conc e uptake, agrupamento pelo type\n",
    "srn.scatterplot(base.conc, base.uptake, hue = base.Type)"
   ]
  },
  {
   "cell_type": "code",
   "execution_count": null,
   "metadata": {},
   "outputs": [],
   "source": [
    "# Seleção de registros específicos da base de dados (Quebec e Mississipi)\n",
    "q = base.loc[base['Type'] == 'Quebec']\n",
    "m = base.loc[base['Type'] == 'Mississippi']"
   ]
  },
  {
   "cell_type": "code",
   "execution_count": null,
   "metadata": {},
   "outputs": [],
   "source": [
    "# Subgráfico (1 linha e duas colunas) mostrando gráficos sobre cada região\n",
    "plt.figure()\n",
    "plt.subplot(1,2,1)\n",
    "srn.scatterplot(q.conc, q.uptake).set_title('Quebec')\n",
    "plt.subplot(1,2,2)\n",
    "srn.scatterplot(m.conc, m.uptake).set_title('Mississippi')\n",
    "plt.tight_layout()"
   ]
  },
  {
   "cell_type": "code",
   "execution_count": null,
   "metadata": {},
   "outputs": [],
   "source": [
    "# Refrigerado e não refrigerado\n",
    "ch = base.loc[base['Treatment'] == 'chilled']\n",
    "nc = base.loc[base['Treatment'] == 'nonchilled']"
   ]
  },
  {
   "cell_type": "code",
   "execution_count": null,
   "metadata": {},
   "outputs": [],
   "source": [
    "# Gráfico somente com 'chilled' e 'nonchilled'\n",
    "plt.figure()\n",
    "plt.subplot(1,2,1)\n",
    "srn.scatterplot(ch.conc, ch.uptake).set_title('Chilled')\n",
    "plt.subplot(1,2,2)\n",
    "srn.scatterplot(nc.conc, nc.uptake).set_title('Non chilled')\n",
    "plt.tight_layout()"
   ]
  },
  {
   "cell_type": "code",
   "execution_count": null,
   "metadata": {},
   "outputs": [],
   "source": [
    "# Carregamento de outro arquivo, cancer de esofago\n",
    "base2 = pd.read_csv('esoph.csv')\n",
    "base2"
   ]
  },
  {
   "cell_type": "code",
   "execution_count": null,
   "metadata": {},
   "outputs": [],
   "source": [
    "# Gráfico entre os atributos 'alcgp' e 'ncontrols'\n",
    "srn.catplot(x = 'alcgp', y = 'ncontrols', data = base2, jitter = False)"
   ]
  },
  {
   "cell_type": "code",
   "execution_count": null,
   "metadata": {},
   "outputs": [],
   "source": [
    "# Gráfico entre os atributos 'alcgp' e 'ncontrols', com agrupamento\n",
    "srn.catplot(x = 'alcgp', y = 'ncontrols', data = base2, col = 'tobgp')"
   ]
  },
  {
   "cell_type": "code",
   "execution_count": null,
   "metadata": {},
   "outputs": [],
   "source": []
  }
 ],
 "metadata": {
  "jupytext": {
   "cell_metadata_filter": "-all",
   "main_language": "python",
   "notebook_metadata_filter": "-all"
  },
  "kernelspec": {
   "display_name": "Python 3",
   "language": "python",
   "name": "python3"
  },
  "language_info": {
   "codemirror_mode": {
    "name": "ipython",
    "version": 3
   },
   "file_extension": ".py",
   "mimetype": "text/x-python",
   "name": "python",
   "nbconvert_exporter": "python",
   "pygments_lexer": "ipython3",
   "version": "3.7.6"
  }
 },
 "nbformat": 4,
 "nbformat_minor": 4
}
