{
 "cells": [
  {
   "cell_type": "markdown",
   "metadata": {},
   "source": [
    "# Formação Cientista de Dados - Prof. Fernando Amaral\n",
    "Faça você mesmo"
   ]
  },
  {
   "cell_type": "code",
   "execution_count": null,
   "metadata": {},
   "outputs": [],
   "source": [
    "#1. Faça um programa que tenha uma função chamada amplitude. A função deve receber uma lista e imprimir a amplitude.\n",
    "#Crie também um código para testar sua função\n",
    "def amplitude(vet):\n",
    "    print(\"Amplitude:\", max(vet) - min(vet))\n",
    "\n",
    "vetor = [12,23,45,2,100]    \n",
    "amplitude(vetor)"
   ]
  },
  {
   "cell_type": "code",
   "execution_count": null,
   "metadata": {},
   "outputs": [],
   "source": [
    "#2. Faça uma função que receba uma string e imprima esta string na forma vertical\n",
    "def imprime(texto):\n",
    "    for n in range(0, len(texto)):\n",
    "        print(texto[n])\n",
    "\n",
    "imprime(\"Cientista\")\n"
   ]
  },
  {
   "cell_type": "code",
   "execution_count": null,
   "metadata": {},
   "outputs": [],
   "source": [
    "#3. Crie um programa que leia o peso de uma carga em números inteiros. \n",
    "#Se o peso for até 10 kg, informe que o valor será de R$ 50,00. \n",
    "#Entre 11 e 20 kg, informe que o valor será de R$ 80. \n",
    "# Se for maior que  20 informe que o transporte não é aceito. Teste vários pesos.\n",
    "\n",
    "peso = 10\n",
    "if peso <= 10:\n",
    "\tprint(\"Valor da carga é de R$ 50,00\")\n",
    "elif peso >= 11 and peso <=20:\n",
    "\tprint(\"Valor da carga é de R$ 80,00\")\n",
    "else:\n",
    "\tprint(\"O transporte não é aceito\")\n"
   ]
  }
 ],
 "metadata": {
  "kernelspec": {
   "display_name": "Python 3",
   "language": "python",
   "name": "python3"
  },
  "language_info": {
   "codemirror_mode": {
    "name": "ipython",
    "version": 3
   },
   "file_extension": ".py",
   "mimetype": "text/x-python",
   "name": "python",
   "nbconvert_exporter": "python",
   "pygments_lexer": "ipython3",
   "version": "3.7.6"
  }
 },
 "nbformat": 4,
 "nbformat_minor": 4
}
