{
 "cells": [
  {
   "cell_type": "code",
   "execution_count": null,
   "metadata": {},
   "outputs": [],
   "source": [
    "# Formação Cientista de Dados - Fernando Amaral e Jones Granatyr\n",
    "# Amostragem sistemática"
   ]
  },
  {
   "cell_type": "code",
   "execution_count": null,
   "metadata": {},
   "outputs": [],
   "source": [
    "# Importação das bibliotecas\n",
    "import numpy as np\n",
    "import pandas as pd\n",
    "from math import ceil"
   ]
  },
  {
   "cell_type": "code",
   "execution_count": null,
   "metadata": {},
   "outputs": [],
   "source": [
    "# Criação das variáveis para representar a população, a amostra e o valor de k\n",
    "populacao = 150\n",
    "amostra = 15\n",
    "k = ceil(populacao / amostra)\n",
    "print(k)"
   ]
  },
  {
   "cell_type": "code",
   "execution_count": null,
   "metadata": {},
   "outputs": [],
   "source": [
    "# Definição do valor randômico para inicializar a amostra, iniciando em 1 até k + 1\n",
    "r = np.random.randint(low = 1, high = k + 1, size = 1)\n",
    "print(r)"
   ]
  },
  {
   "cell_type": "code",
   "execution_count": null,
   "metadata": {},
   "outputs": [],
   "source": [
    "# Criamos um for para somar os próximos valores, baseado no primeiro valor r que foi definido acima\n",
    "acumulador = r[0]\n",
    "sorteados = []\n",
    "for i in range(amostra):\n",
    "    #print(acumulador)\n",
    "    sorteados.append(acumulador)\n",
    "    acumulador += k\n",
    "print(sorteados)"
   ]
  },
  {
   "cell_type": "code",
   "execution_count": null,
   "metadata": {},
   "outputs": [],
   "source": [
    "len(sorteados)"
   ]
  },
  {
   "cell_type": "code",
   "execution_count": null,
   "metadata": {},
   "outputs": [],
   "source": [
    "# Carregamos a base de dados e criamos a base_final somente com os valores sorteados\n",
    "base = pd.read_csv('iris.csv')\n",
    "base_final = base.loc[sorteados]\n",
    "base_final"
   ]
  },
  {
   "cell_type": "code",
   "execution_count": null,
   "metadata": {},
   "outputs": [],
   "source": []
  }
 ],
 "metadata": {
  "jupytext": {
   "cell_metadata_filter": "-all",
   "main_language": "python",
   "notebook_metadata_filter": "-all"
  },
  "kernelspec": {
   "display_name": "Python 3",
   "language": "python",
   "name": "python3"
  },
  "language_info": {
   "codemirror_mode": {
    "name": "ipython",
    "version": 3
   },
   "file_extension": ".py",
   "mimetype": "text/x-python",
   "name": "python",
   "nbconvert_exporter": "python",
   "pygments_lexer": "ipython3",
   "version": "3.7.6"
  }
 },
 "nbformat": 4,
 "nbformat_minor": 4
}
