{
 "cells": [
  {
   "cell_type": "code",
   "execution_count": null,
   "metadata": {},
   "outputs": [],
   "source": [
    "# Formação Cientista de Dados - Fernando Amaral e Jones Granatyr\n",
    "# Decomposição de série temporal"
   ]
  },
  {
   "cell_type": "code",
   "execution_count": null,
   "metadata": {},
   "outputs": [],
   "source": [
    "# Importação das bibliotecas\n",
    "import pandas as pd\n",
    "import matplotlib.pylab as plt\n",
    "from statsmodels.tsa.seasonal import seasonal_decompose\n",
    "from datetime import datetime\n",
    "#registro de converters para uso do matplotlib\n",
    "from pandas.plotting import register_matplotlib_converters\n",
    "register_matplotlib_converters()"
   ]
  },
  {
   "cell_type": "code",
   "execution_count": null,
   "metadata": {},
   "outputs": [],
   "source": [
    "# Carregamento da base de dados, conversão do atributo para data e criação da série temporal (ts)\n",
    "base = pd.read_csv('AirPassengers.csv')\n",
    "dateparse = lambda dates: datetime.strptime(dates, '%Y-%m')\n",
    "base = pd.read_csv('AirPassengers.csv', parse_dates = ['Month'],\n",
    "                   index_col = 'Month', date_parser = dateparse)\n",
    "ts = base['#Passengers']"
   ]
  },
  {
   "cell_type": "code",
   "execution_count": null,
   "metadata": {},
   "outputs": [],
   "source": [
    "# Visualização da série temporal\n",
    "plt.plot(ts)"
   ]
  },
  {
   "cell_type": "code",
   "execution_count": null,
   "metadata": {},
   "outputs": [],
   "source": [
    "# Decomposição da série temporal, criando uma variável para cada formato\n",
    "decomposicao = seasonal_decompose(ts)"
   ]
  },
  {
   "cell_type": "code",
   "execution_count": null,
   "metadata": {},
   "outputs": [],
   "source": [
    "#tendencia\n",
    "tendencia = decomposicao.trend\n",
    "tendencia"
   ]
  },
  {
   "cell_type": "code",
   "execution_count": null,
   "metadata": {},
   "outputs": [],
   "source": [
    "#sozonalidade\n",
    "sazonal = decomposicao.seasonal\n",
    "sazonal"
   ]
  },
  {
   "cell_type": "code",
   "execution_count": null,
   "metadata": {},
   "outputs": [],
   "source": [
    "#erro\n",
    "aleatorio = decomposicao.resid\n",
    "aleatorio"
   ]
  },
  {
   "cell_type": "code",
   "execution_count": null,
   "metadata": {},
   "outputs": [],
   "source": [
    "# Visualização de gráfico para cada formato da série temporal\n",
    "plt.plot(sazonal)"
   ]
  },
  {
   "cell_type": "code",
   "execution_count": null,
   "metadata": {},
   "outputs": [],
   "source": [
    "plt.plot(tendencia)"
   ]
  },
  {
   "cell_type": "code",
   "execution_count": null,
   "metadata": {},
   "outputs": [],
   "source": [
    "plt.plot(aleatorio)"
   ]
  },
  {
   "cell_type": "code",
   "execution_count": null,
   "metadata": {},
   "outputs": [],
   "source": [
    "plt.subplot(4,1,1)\n",
    "plt.plot(ts, label = 'Original')\n",
    "plt.legend(loc = 'best')\n",
    "\n",
    "# Visualização somente da tendência\n",
    "plt.subplot(4,1,2)\n",
    "plt.plot(tendencia, label = 'Tendência')\n",
    "plt.legend(loc = 'best')\n",
    "\n",
    "# Visualização somente da sazonalidade\n",
    "plt.subplot(4,1,3)\n",
    "plt.plot(sazonal, label = 'Sazonalidade')\n",
    "plt.legend(loc = 'best')\n",
    "\n",
    "# Visualização somente do elemento aleatório\n",
    "plt.subplot(4,1,4)\n",
    "plt.plot(aleatorio, label = 'Aletório')\n",
    "plt.legend(loc = 'best')\n",
    "plt.tight_layout()"
   ]
  },
  {
   "cell_type": "code",
   "execution_count": null,
   "metadata": {},
   "outputs": [],
   "source": []
  }
 ],
 "metadata": {
  "jupytext": {
   "cell_metadata_filter": "-all",
   "main_language": "python",
   "notebook_metadata_filter": "-all"
  },
  "kernelspec": {
   "display_name": "Python 3",
   "language": "python",
   "name": "python3"
  },
  "language_info": {
   "codemirror_mode": {
    "name": "ipython",
    "version": 3
   },
   "file_extension": ".py",
   "mimetype": "text/x-python",
   "name": "python",
   "nbconvert_exporter": "python",
   "pygments_lexer": "ipython3",
   "version": "3.7.6"
  }
 },
 "nbformat": 4,
 "nbformat_minor": 4
}
